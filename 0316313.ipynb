{
 "cells": [
  {
   "cell_type": "markdown",
   "metadata": {},
   "source": [
    "# Big Data Analytics Techniques and Applications - HW1\n",
    "#### 0316313 張逸群"
   ]
  },
  {
   "cell_type": "markdown",
   "metadata": {},
   "source": [
    "## 資料\n",
    "| ID | 資料名稱                | 資料大小 |\n",
    "|----|-------------------------|----------|\n",
    "| 1  | yellow_tripdata_2015-01 | 1.9GB    |\n",
    "| 2  | yellow_tripdata_2015-02 | 1.9GB    |\n",
    "|總計 |                         | 3.8GB    |\n",
    "\n",
    "## 使用工具\n",
    "* python3.7\n",
    "* numpy\n",
    "* pandas\n",
    "* jupyter lab\n",
    "\n",
    "## 環境\n",
    "* Ubuntu 16\n",
    "* Intel(R) Core(TM) i5-6600 CPU @ 3.30GHz\n",
    "* 56GB ram\n"
   ]
  },
  {
   "cell_type": "markdown",
   "metadata": {},
   "source": [
    "## 使用 `pandas` 讀取資料，並以 `pandas.DataFrame` 儲存"
   ]
  },
  {
   "cell_type": "code",
   "execution_count": 1,
   "metadata": {},
   "outputs": [],
   "source": [
    "import numpy as np\n",
    "import pandas as pd\n",
    "import pandasql as ps\n",
    "import os\n",
    "import sys"
   ]
  },
  {
   "cell_type": "code",
   "execution_count": 2,
   "metadata": {},
   "outputs": [],
   "source": [
    "data_list = ['yellow_tripdata_2015-01', 'yellow_tripdata_2015-02']"
   ]
  },
  {
   "cell_type": "code",
   "execution_count": 3,
   "metadata": {},
   "outputs": [
    {
     "name": "stdout",
     "output_type": "stream",
     "text": [
      "reading yellow_tripdata_2015-01 ... done!\n",
      "reading yellow_tripdata_2015-02 ... done!\n"
     ]
    }
   ],
   "source": [
    "df = None\n",
    "for filename in data_list:\n",
    "    print('reading', filename, '...', end='')\n",
    "    if os.path.exists(filename + '.pl'):\n",
    "        tmp_df = pd.read_pickle(filename + '.pl')\n",
    "    else:\n",
    "        tmp_df = pd.read_csv(filename + '.csv')\n",
    "        tmp_df.to_pickle(filename + '.pl')\n",
    "        \n",
    "    if df is None: df = tmp_df\n",
    "    else: df.append(tmp_df, ignore_index=True)\n",
    "        \n",
    "    print(' done!')"
   ]
  },
  {
   "cell_type": "markdown",
   "metadata": {},
   "source": [
    "### 預覽資料"
   ]
  },
  {
   "cell_type": "code",
   "execution_count": 4,
   "metadata": {},
   "outputs": [
    {
     "name": "stdout",
     "output_type": "stream",
     "text": [
      "   VendorID tpep_pickup_datetime tpep_dropoff_datetime  passenger_count  \\\n",
      "0         2  2015-01-15 19:05:39   2015-01-15 19:23:42                1   \n",
      "1         1  2015-01-10 20:33:38   2015-01-10 20:53:28                1   \n",
      "2         1  2015-01-10 20:33:38   2015-01-10 20:43:41                1   \n",
      "3         1  2015-01-10 20:33:39   2015-01-10 20:35:31                1   \n",
      "4         1  2015-01-10 20:33:39   2015-01-10 20:52:58                1   \n",
      "\n",
      "   trip_distance  pickup_longitude  pickup_latitude  RateCodeID  \\\n",
      "0           1.59        -73.993896        40.750111           1   \n",
      "1           3.30        -74.001648        40.724243           1   \n",
      "2           1.80        -73.963341        40.802788           1   \n",
      "3           0.50        -74.009087        40.713818           1   \n",
      "4           3.00        -73.971176        40.762428           1   \n",
      "\n",
      "  store_and_fwd_flag  dropoff_longitude  dropoff_latitude  payment_type  \\\n",
      "0                  N         -73.974785         40.750618             1   \n",
      "1                  N         -73.994415         40.759109             1   \n",
      "2                  N         -73.951820         40.824413             2   \n",
      "3                  N         -74.004326         40.719986             2   \n",
      "4                  N         -74.004181         40.742653             2   \n",
      "\n",
      "   fare_amount  extra  mta_tax  tip_amount  tolls_amount  \\\n",
      "0         12.0    1.0      0.5        3.25           0.0   \n",
      "1         14.5    0.5      0.5        2.00           0.0   \n",
      "2          9.5    0.5      0.5        0.00           0.0   \n",
      "3          3.5    0.5      0.5        0.00           0.0   \n",
      "4         15.0    0.5      0.5        0.00           0.0   \n",
      "\n",
      "   improvement_surcharge  total_amount  \n",
      "0                    0.3         17.05  \n",
      "1                    0.3         17.80  \n",
      "2                    0.3         10.80  \n",
      "3                    0.3          4.80  \n",
      "4                    0.3         16.30  \n"
     ]
    }
   ],
   "source": [
    "print(df.head())"
   ]
  },
  {
   "cell_type": "markdown",
   "metadata": {},
   "source": [
    "### 取得統計資料"
   ]
  },
  {
   "cell_type": "code",
   "execution_count": 5,
   "metadata": {},
   "outputs": [
    {
     "name": "stdout",
     "output_type": "stream",
     "text": [
      "           VendorID  passenger_count  trip_distance  pickup_longitude  \\\n",
      "count  1.274899e+07     1.274899e+07   1.274899e+07      1.274899e+07   \n",
      "mean   1.521437e+00     1.681491e+00   1.345913e+01     -7.256184e+01   \n",
      "std    4.995402e-01     1.337924e+00   9.844094e+03      1.012510e+01   \n",
      "min    1.000000e+00     0.000000e+00   0.000000e+00     -1.219258e+02   \n",
      "25%    1.000000e+00     1.000000e+00   1.000000e+00     -7.399168e+01   \n",
      "50%    2.000000e+00     1.000000e+00   1.680000e+00     -7.398160e+01   \n",
      "75%    2.000000e+00     2.000000e+00   3.000000e+00     -7.396662e+01   \n",
      "max    2.000000e+00     9.000000e+00   1.542000e+07      7.866265e+01   \n",
      "\n",
      "       pickup_latitude    RateCodeID  dropoff_longitude  dropoff_latitude  \\\n",
      "count     1.274899e+07  1.274899e+07       1.274899e+07      1.274899e+07   \n",
      "mean      3.997282e+01  1.036901e+00      -7.260904e+01      3.999961e+01   \n",
      "std       5.578691e+00  6.732240e-01       9.966037e+00      5.487742e+00   \n",
      "min       0.000000e+00  1.000000e+00      -7.401667e+02     -9.029157e+00   \n",
      "25%       4.073554e+01  1.000000e+00      -7.399120e+01      4.073436e+01   \n",
      "50%       4.075314e+01  1.000000e+00      -7.397976e+01      4.075362e+01   \n",
      "75%       4.076757e+01  1.000000e+00      -7.396246e+01      4.076880e+01   \n",
      "max       4.047000e+02  9.900000e+01       8.527402e+01      4.595333e+02   \n",
      "\n",
      "       payment_type   fare_amount         extra       mta_tax    tip_amount  \\\n",
      "count  1.274899e+07  1.274899e+07  1.274899e+07  1.274899e+07  1.274899e+07   \n",
      "mean   1.386712e+00  1.190566e+01  3.082790e-01  4.977986e-01  1.853814e+00   \n",
      "std    4.988611e-01  1.030254e+01  5.916643e-01  3.534229e-02  1.106432e+03   \n",
      "min    1.000000e+00 -4.500000e+02 -7.900000e+01 -5.000000e-01 -9.242000e+01   \n",
      "25%    1.000000e+00  6.500000e+00  0.000000e+00  5.000000e-01  0.000000e+00   \n",
      "50%    1.000000e+00  9.000000e+00  0.000000e+00  5.000000e-01  1.000000e+00   \n",
      "75%    2.000000e+00  1.350000e+01  5.000000e-01  5.000000e-01  2.060000e+00   \n",
      "max    5.000000e+00  4.008000e+03  9.999900e+02  5.000000e-01  3.950589e+06   \n",
      "\n",
      "       tolls_amount  improvement_surcharge  total_amount  \n",
      "count  1.274899e+07           1.274898e+07  1.274899e+07  \n",
      "mean   2.434984e-01           2.831431e-01  1.510829e+01  \n",
      "std    1.527171e+00           6.908633e-02  1.106503e+03  \n",
      "min   -2.600000e+01           0.000000e+00 -4.503000e+02  \n",
      "25%    0.000000e+00           3.000000e-01  8.160000e+00  \n",
      "50%    0.000000e+00           3.000000e-01  1.116000e+01  \n",
      "75%    0.000000e+00           3.000000e-01  1.630000e+01  \n",
      "max    1.450090e+03           3.000000e-01  3.950612e+06  \n"
     ]
    }
   ],
   "source": [
    "print(df.describe())"
   ]
  },
  {
   "cell_type": "markdown",
   "metadata": {},
   "source": [
    "# Q2. When are the peak hours and off-peak hours for taking taxi?  \n",
    "## A2. 將資料中的時間取出，將其小時的部分進行 bining ，便可以得到以下結果："
   ]
  },
  {
   "cell_type": "code",
   "execution_count": 6,
   "metadata": {},
   "outputs": [
    {
     "name": "stdout",
     "output_type": "stream",
     "text": [
      "19    805230\n",
      "18    799587\n",
      "20    733952\n",
      "21    711579\n",
      "22    686959\n",
      "17    668790\n",
      "14    658887\n",
      "15    648688\n",
      "12    637479\n",
      "13    635587\n",
      "11    596504\n",
      "23    592429\n",
      "9     580034\n",
      "16    576598\n",
      "10    567818\n",
      "8     561802\n",
      "0     469971\n",
      "7     456127\n",
      "1     355145\n",
      "6     268455\n",
      "2     268133\n",
      "3     198524\n",
      "4     143271\n",
      "5     127437\n",
      "Name: hour_of_day, dtype: int64\n"
     ]
    }
   ],
   "source": [
    "df['hour_of_day'] = [ t.hour for t in pd.to_datetime(df.tpep_pickup_datetime) ]\n",
    "hod_count = df['hour_of_day'].value_counts()\n",
    "print(hod_count)"
   ]
  },
  {
   "cell_type": "code",
   "execution_count": null,
   "metadata": {},
   "outputs": [],
   "source": []
  }
 ],
 "metadata": {
  "kernelspec": {
   "display_name": "Python 3",
   "language": "python",
   "name": "python3"
  },
  "language_info": {
   "codemirror_mode": {
    "name": "ipython",
    "version": 3
   },
   "file_extension": ".py",
   "mimetype": "text/x-python",
   "name": "python",
   "nbconvert_exporter": "python",
   "pygments_lexer": "ipython3",
   "version": "3.5.2"
  }
 },
 "nbformat": 4,
 "nbformat_minor": 2
}
